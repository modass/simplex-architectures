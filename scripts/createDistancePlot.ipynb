{
 "cells": [
  {
   "cell_type": "markdown",
   "metadata": {},
   "source": [
    "# Distance plots\n",
    "\n",
    "Notebook to create plots that show the distance as well as the invocation of the base controller over time."
   ]
  },
  {
   "cell_type": "code",
   "execution_count": 88,
   "metadata": {},
   "outputs": [
    {
     "name": "stdout",
     "output_type": "stream",
     "text": [
      "200\n"
     ]
    }
   ],
   "source": [
    "import pathlib\n",
    "import readDistances\n",
    "\n",
    "baseDir = pathlib.Path().resolve()\n",
    "infilename = str(baseDir) + \"/../cmake-build-release/bin/minimal_distances.txt\"\n"
   ]
  },
  {
   "cell_type": "code",
   "execution_count": 89,
   "metadata": {},
   "outputs": [],
   "source": [
    "from cProfile import label\n",
    "import matplotlib.pyplot as plt\n",
    "from matplotlib.collections import LineCollection\n",
    "import numpy as np\n",
    "\n",
    "def extend_edges(inarray):\n",
    "    tmp = inarray\n",
    "    for i in range(len(inarray)):\n",
    "        # extend rising edge\n",
    "        if i != len(inarray)-1 and not inarray[i] and inarray[i+1]:\n",
    "            tmp[i] = True\n",
    "        # extend falling edge\n",
    "        if i != len(inarray)-1 and inarray[i] and not inarray[i+1]:\n",
    "            tmp[i] = True\n",
    "    # shift all by one, add initial\n",
    "    out = [inarray[0]]\n",
    "    for i in range(len(inarray)-1):\n",
    "        out.append(tmp[i])\n",
    "    return out\n",
    "\n",
    "def plot(data):\n",
    "    fig, ax = plt.subplots()\n",
    "    alph = 1.0\n",
    "    max_iterations = 1000\n",
    "    \n",
    "    #ax.hlines(y_limits[var][0], xmin=0, xmax=1000, linewidth=0.1)\n",
    "    #ax.hlines(y_limits[var][1], xmin=0, xmax=1000, linewidth=0.1)\n",
    "    use_basecontroller_after_training = extend_edges([ y['adv'] == False and y['training'] == True for y in data if y['it'] < max_iterations])\n",
    "    use_basecontroller = extend_edges([ y['adv'] == False and y['training'] == False for y in data if y['it'] < max_iterations])\n",
    "    use_advancedcontroller_after_training = extend_edges([ y['adv'] == True and y['training'] == True for y in data if y['it'] < max_iterations])\n",
    "    use_advancedcontroller = extend_edges([ y['adv'] == True and y['training'] == False for y in data if y['it'] < max_iterations])\n",
    "    distances = [ y['dist'] for y in data if y['it'] < max_iterations]\n",
    "    x = [x+1 for x in range(len(use_advancedcontroller))]\n",
    "    \n",
    "    print(str(len(x)))\n",
    "    print(str(len(use_advancedcontroller)))\n",
    "    \n",
    "    ax.fill_between(x, distances, where=use_basecontroller, alpha=.5*alph, label='used BC, no training', color='orange')\n",
    "    ax.fill_between(x, distances, where=use_advancedcontroller, alpha=.5*alph, label='used AC, no training', color='green')\n",
    "    ax.fill_between(x, distances, where=use_basecontroller_after_training, alpha=alph, label='used BC, after training', color='orange')\n",
    "    ax.fill_between(x, distances, where=use_advancedcontroller_after_training, alpha=alph, label='used AC, after training', color='green')\n",
    "        \n",
    "    ax.set_xlabel('time (control cycles)')\n",
    "    ax.set_ylabel('distance to track boundary')\n",
    "    ax.legend(loc='upper left')\n",
    "    \n",
    "    plt.savefig('distances.png', dpi=600, pad_inches=0.0, bbox_inches='tight')\n",
    "    plt.show()"
   ]
  },
  {
   "cell_type": "code",
   "execution_count": 90,
   "metadata": {},
   "outputs": [
    {
     "name": "stdout",
     "output_type": "stream",
     "text": [
      "200\n",
      "200\n"
     ]
    },
    {
     "data": {
      "image/png": "[encoded data removed]",
      "text/plain": [
       "<Figure size 432x288 with 1 Axes>"
      ]
     },
     "metadata": {
      "needs_background": "light"
     },
     "output_type": "display_data"
    }
   ],
   "source": [
    "data = readDistancesFile(infilename)\n",
    "\n",
    "plot(data)"
   ]
  }
 ],
 "metadata": {
  "interpreter": {
   "hash": "767d51c1340bd893661ea55ea3124f6de3c7a262a8b4abca0554b478b1e2ff90"
  },
  "kernelspec": {
   "display_name": "Python 3.8.10 64-bit",
   "language": "python",
   "name": "python3"
  },
  "language_info": {
   "codemirror_mode": {
    "name": "ipython",
    "version": 3
   },
   "file_extension": ".py",
   "mimetype": "text/x-python",
   "name": "python",
   "nbconvert_exporter": "python",
   "pygments_lexer": "ipython3",
   "version": "3.10.6"
  },
  "orig_nbformat": 4
 },
 "nbformat": 4,
 "nbformat_minor": 2
}
