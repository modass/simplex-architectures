{
 "cells": [
  {
   "cell_type": "markdown",
   "metadata": {
    "collapsed": false,
    "pycharm": {
     "name": "#%% md\n"
    }
   },
   "source": [
    "# Create a triangulation from an ordered sequence of vertices\n",
    "\n"
   ]
  },
  {
   "cell_type": "code",
   "execution_count": 46,
   "metadata": {},
   "outputs": [],
   "source": [
    "infile = 'austria.csv' # filename for the file containing the vertices\n",
    "inner_track_name = 'inner_track' # name for the inner track\n",
    "inner_track_filename = inner_track_name + '.poly' # filename which contains input for triangle of the inner part of the track\n",
    "triangle_folder = '/home/stefan/tu/repositories/simplex-architectures/cmake-build-release/triangle-prefix/src/triangle/' # triangle-executable folder\n",
    "hypro_outfile = '/home/stefan/tu/repositories/simplex-architectures/src/tool_car/bad_states.h' # the file will contain definitions of polytopes for the inner part of the track"
   ]
  },
  {
   "cell_type": "markdown",
   "metadata": {},
   "source": [
    "Read in the csv-file containing the vertices of the track."
   ]
  },
  {
   "cell_type": "code",
   "execution_count": 47,
   "metadata": {
    "collapsed": false,
    "pycharm": {
     "is_executing": true,
     "name": "#%%\n"
    }
   },
   "outputs": [
    {
     "name": "stdout",
     "output_type": "stream",
     "text": [
      "[('567.8', '140.464'), ('407.28', '99.8436'), ('300.37', '73.3236'), ('287.54', '72.6036'), ('278.95', '88.3236'), ('250.27', '127.734'), ('227.41', '159.864'), ('150.03', '314.124'), ('66.76', '409.744'), ('71.88', '425.194'), ('143.78', '426.974'), ('193.99', '417.434'), ('268.61', '403.814'), ('336.96', '396.914'), ('407.96', '391.444'), ('418.09', '369.944'), ('350.24', '322.614'), ('288.07', '328.394'), ('235.61', '332.144'), ('213.37', '296.674'), ('217.61', '282.944'), ('251.7', '219.664'), ('299.17', '214.164'), ('332.46', '248.944'), ('370.08', '262.144'), ('536.13', '261.774'), ('576.04', '261.754'), ('597.75', '247.034'), ('616.07', '177.874'), ('607.42', '159.384')]\n"
     ]
    }
   ],
   "source": [
    "nodes = []\n",
    "\n",
    "with open(infile, 'r') as f:\n",
    "    nodes = [ (line.split(\",\")[0].strip(), line.split(\",\")[1].strip()) for line in f.readlines() if '#' not in line]\n",
    "\n",
    "print(str(nodes))\n"
   ]
  },
  {
   "cell_type": "markdown",
   "metadata": {},
   "source": [
    "Prepare a *.poly file for triangle which contains all the nodes and segments"
   ]
  },
  {
   "cell_type": "code",
   "execution_count": 48,
   "metadata": {},
   "outputs": [],
   "source": [
    "\n",
    "out = open(inner_track_filename,'w')\n",
    "# write first line: number of nodes, dimension, number of attributes, markers (1 or 0)\n",
    "out.write(str(len(nodes)) + \" 2 0 0\\n\")\n",
    "# write all nodes\n",
    "for i in range(len(nodes)):\n",
    "    out.write(str(i) + \" \" + nodes[i][0] + \" \" + nodes[i][1] + \"\\n\")\n",
    "\n",
    "# now add segments, first a line indicating how many segments there will be, whether we want to have boundary markers, \n",
    "# then the segments (the two node indices defining a segment)\n",
    "out.write(str(len(nodes)) + \" 0\\n\")\n",
    "for i in range(len(nodes)):\n",
    "    out.write(str(i) + \" \" + str(i) + \" \" + str((i+1) % len(nodes)) + \"\\n\")\n",
    "\n",
    "# finally, add one line for indicating that there are no holes (with no boundary markers)\n",
    "out.write(\"0 0\")\n",
    "\n",
    "out.close()\n"
   ]
  },
  {
   "cell_type": "markdown",
   "metadata": {},
   "source": [
    "We can now call triangle on the created file and read in the output "
   ]
  },
  {
   "cell_type": "code",
   "execution_count": 49,
   "metadata": {},
   "outputs": [
    {
     "name": "stdout",
     "output_type": "stream",
     "text": [
      "Opening inner_track.poly.\n",
      "Constructing Delaunay triangulation by divide-and-conquer method.\n",
      "Delaunay milliseconds:  0\n",
      "Recovering segments in Delaunay triangulation.\n",
      "Segment milliseconds:  0\n",
      "Removing unwanted triangles.\n",
      "Hole milliseconds:  0\n",
      "\n",
      "Writing inner_track.1.node.\n",
      "Writing inner_track.1.ele.\n",
      "Writing inner_track.1.poly.\n",
      "\n",
      "Output milliseconds:  0\n",
      "Total running milliseconds:  0\n",
      "\n",
      "Statistics:\n",
      "\n",
      "  Input vertices: 30\n",
      "  Input segments: 30\n",
      "  Input holes: 0\n",
      "\n",
      "  Mesh vertices: 30\n",
      "  Mesh triangles: 28\n",
      "  Mesh edges: 57\n",
      "  Mesh exterior boundary edges: 30\n",
      "  Mesh interior boundary edges: 0\n",
      "  Mesh subsegments (constrained edges): 30\n",
      "\n",
      "[(2, 0, 1), (0, 1, 1), (1, 2, 1), (2, 3, 1), (3, 4, 1), (4, 5, 1), (6, 5, 1), (7, 6, 1), (7, 8, 1), (8, 9, 1), (9, 10, 1), (11, 10, 1), (12, 11, 1), (13, 12, 1), (14, 13, 1), (14, 15, 1), (16, 15, 1), (16, 17, 1), (18, 17, 1), (19, 18, 1), (19, 20, 1), (21, 20, 1), (22, 21, 1), (23, 22, 1), (23, 24, 1), (25, 24, 1), (25, 26, 1), (26, 27, 1), (27, 28, 1), (28, 29, 1), (29, 0, 1)]\n"
     ]
    }
   ],
   "source": [
    "import os\n",
    "\n",
    "# call to triangle\n",
    "os.system(triangle_folder + \"triangle -pYj \" + inner_track_filename)\n",
    "\n",
    "# collect output files\n",
    "vertex_sets = []\n",
    "with open(inner_track_name + \".1.poly\") as f:\n",
    "    vertex_sets = [ (int(line.split()[1]), int(line.split()[2]), int(line.split()[3])) for line in f.readlines() if len(line.split()) == 4]\n",
    "\n",
    "print(str(vertex_sets))\n"
   ]
  },
  {
   "cell_type": "markdown",
   "metadata": {},
   "source": [
    "Create HyPro-code that creates polytopes for each of the passed triangles."
   ]
  },
  {
   "cell_type": "code",
   "execution_count": 50,
   "metadata": {},
   "outputs": [],
   "source": [
    "hyprofile = open(hypro_outfile,'w')\n",
    "\n",
    "hyprofile.write(\n",
    "'#include <hypro/representations/GeometricObjectBase.h>\\n\\\n",
    "#include <vector>\\n\\n\\\n",
    "#pragma once\\n\\n\\\n",
    "namespace simplexArchitectures {\\n\\\n",
    "template<typename Automaton>\\n\\\n",
    "typename Automaton::conditionVector createBadStates() {\\n\\\n",
    "\\tusing Number = typename Automaton::NumberType;\\n\\\n",
    "\\tauto res = typename Automaton::conditionVector();\\n\\n')\n",
    "\n",
    "for v_set in vertex_sets:\n",
    "    hyprofile.write(\n",
    "'\\t{\\n'\n",
    "'\\tstd::vector<hypro::Point<Number>> points{\\n' +\n",
    "'\\t\\thypro::Point<Number>({'+ nodes[v_set[0]][0] + ',' + nodes[v_set[0]][1] + '}),\\n' +\n",
    "'\\t\\thypro::Point<Number>({'+ nodes[v_set[1]][0] + ',' + nodes[v_set[1]][1] + '}),\\n' +\n",
    "'\\t\\thypro::Point<Number>({'+ nodes[v_set[2]][0] + ',' + nodes[v_set[2]][1] + '})\\n' + \n",
    "'\\t};\\n\\\n",
    "\\thypro::HPolytope<Number> poly{points};\\n\\\n",
    "\\tres.push_back(hypro::Condition<Number>(poly.matrix(), poly.vector()));\\n\\t}\\n'\n",
    "    )\n",
    "    \n",
    "hyprofile.write('}\\n} // namespace\\n')\n",
    "\n",
    "hyprofile.close()"
   ]
  }
 ],
 "metadata": {
  "kernelspec": {
   "display_name": "Python 3.10.4 64-bit",
   "language": "python",
   "name": "python3"
  },
  "language_info": {
   "codemirror_mode": {
    "name": "ipython",
    "version": 3
   },
   "file_extension": ".py",
   "mimetype": "text/x-python",
   "name": "python",
   "nbconvert_exporter": "python",
   "pygments_lexer": "ipython3",
   "version": "3.10.4"
  },
  "vscode": {
   "interpreter": {
    "hash": "e7370f93d1d0cde622a1f8e1c04877d8463912d04d973331ad4851f04de6915a"
   }
  }
 },
 "nbformat": 4,
 "nbformat_minor": 0
}
