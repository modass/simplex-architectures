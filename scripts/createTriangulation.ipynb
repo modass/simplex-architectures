{
 "cells": [
  {
   "cell_type": "markdown",
   "metadata": {
    "collapsed": false,
    "pycharm": {
     "name": "#%% md\n"
    }
   },
   "source": [
    "# Create Tracks\n",
    "\n",
    "Create tracks from passed inner and outer borders. The goal is to automatically generate code that represents the track, i.e., the set of bad states, waypoints as well as the bounding box.\n"
   ]
  },
  {
   "cell_type": "code",
   "execution_count": 79,
   "metadata": {},
   "outputs": [],
   "source": [
    "in_inner = 'austria.csv' # filename for the file containing the vertices\n",
    "in_outer = 'austria.csv' # filename for the file containing the vertices\n",
    "inner_track_name = 'inner_track' # name for the inner track\n",
    "inner_track_filename = inner_track_name + '.poly' # filename which contains input for triangle of the inner part of the track\n",
    "outer_track_name = 'outer_track' # name for the inner track\n",
    "outer_track_filename = outer_track_name + '.poly' # filename which contains input for triangle of the inner part of the track\n",
    "triangle_folder = '/home/stefan/tu/repositories/simplex-architectures/cmake-build-release/triangle-prefix/src/triangle/' # triangle-executable folder\n",
    "hypro_outfile = '/home/stefan/tu/repositories/simplex-architectures/racetracks/austria/bad_states.h' # the file will contain definitions of polytopes for the inner part of the track\n",
    "hypro_playground = '/home/stefan/tu/repositories/simplex-architectures/racetracks/austria/playground.h' # contains the bounding box"
   ]
  },
  {
   "cell_type": "markdown",
   "metadata": {},
   "source": [
    "Read in the csv-file containing the vertices of the track."
   ]
  },
  {
   "cell_type": "code",
   "execution_count": 80,
   "metadata": {
    "collapsed": false,
    "pycharm": {
     "is_executing": true,
     "name": "#%%\n"
    }
   },
   "outputs": [],
   "source": [
    "inner_nodes = []\n",
    "outer_nodes = []\n",
    "\n",
    "with open(in_inner, 'r') as f:\n",
    "    inner_nodes = [ (line.split(\",\")[0].strip(), line.split(\",\")[1].strip()) for line in f.readlines() if '#' not in line]\n",
    "\n",
    "with open(in_outer, 'r') as f:\n",
    "    outer_nodes = [ (line.split(\",\")[0].strip(), line.split(\",\")[1].strip()) for line in f.readlines() if '#' not in line]\n"
   ]
  },
  {
   "cell_type": "markdown",
   "metadata": {},
   "source": [
    "Also compute the corners of the bounding box"
   ]
  },
  {
   "cell_type": "code",
   "execution_count": 81,
   "metadata": {},
   "outputs": [],
   "source": [
    "minx = miny = float('inf')\n",
    "maxx = maxy = float('-inf')\n",
    "for v in outer_nodes:\n",
    "    minx = min(minx, float(v[0]))\n",
    "    maxx = max(maxx, float(v[0]))\n",
    "    miny = min(miny, float(v[1]))\n",
    "    maxy = max(maxy, float(v[1]))\n",
    "\n",
    "# add a bit of margin for stability\n",
    "minx -= 1\n",
    "maxx += 1\n",
    "miny -= 1\n",
    "maxy += 1"
   ]
  },
  {
   "cell_type": "code",
   "execution_count": 82,
   "metadata": {},
   "outputs": [],
   "source": [
    "from platform import node\n",
    "\n",
    "\n",
    "def writePolyFile(filename,nodes,holes,bounding_box):\n",
    "    out = open(filename,'w')\n",
    "    # write first line: number of nodes, dimension, number of attributes, markers (1 or 0)\n",
    "    out.write(str(len(nodes)+len(bounding_box)) + \" 2 0 0\\n\")\n",
    "    # write all nodes\n",
    "    for i in range(len(nodes)):\n",
    "        out.write(str(i) + \" \" + str(nodes[i][0]) + \" \" + str(nodes[i][1]) + \"\\n\")\n",
    "\n",
    "    for i in range(len(bounding_box)):\n",
    "        out.write(str(i+len(nodes)) + \" \" + str(bounding_box[i][0]) + \" \" + str(bounding_box[i][1]) + \"\\n\")\n",
    "\n",
    "    # now add segments, first a line indicating how many segments there will be, whether we want to have boundary markers, \n",
    "    # then the segments (the two node indices defining a segment)\n",
    "    out.write(str(len(nodes)+len(bounding_box)) + \" 0\\n\")\n",
    "    for i in range(len(nodes)):\n",
    "        out.write(str(i) + \" \" + str(i) + \" \" + str((i+1) % len(nodes)) + \"\\n\")\n",
    "    \n",
    "    # write segments for bounding box manually, if we have a bounding box\n",
    "    if len(bounding_box) > 0:\n",
    "        out.write(str(len(nodes)) + \" \" + str(len(nodes)) + \" \" + str((len(nodes)+1)) + \"\\n\")\n",
    "        out.write(str(len(nodes)+1) + \" \" + str(len(nodes)+1) + \" \" + str((len(nodes)+2)) + \"\\n\")\n",
    "        out.write(str(len(nodes)+2) + \" \" + str(len(nodes)+2) + \" \" + str((len(nodes)+3)) + \"\\n\")\n",
    "        out.write(str(len(nodes)+3) + \" \" + str(len(nodes)+3) + \" \" + str((len(nodes))) + \"\\n\")\n",
    "\n",
    "    # finally, add one line for indicating the number of holes (with no boundary markers)\n",
    "    out.write(str(len(holes)) + \" 0\\n\")\n",
    "    # if there are holes, give inner points\n",
    "    for i in range(len(holes)):\n",
    "        out.write(str(i) + \" \" + str(holes[i][0]) + \" \" + str(holes[i][1]) + \"\\n\")\n",
    "\n",
    "    out.close()"
   ]
  },
  {
   "cell_type": "markdown",
   "metadata": {},
   "source": [
    "Prepare a *.poly file for triangle which contains all the nodes and segments, one for the inner and one for the outer track. Note that for the outer track we need to define a hole (the inner track). To do so, we first compute the inner track triangulation, then take a point which is definitely inside one of the computed triangles (the mid-point of the first triangle) and use this point to define the inside of the hole for the outer triangulation. Note that we also need to provide vertices of the bounding box for the outer set."
   ]
  },
  {
   "cell_type": "code",
   "execution_count": 83,
   "metadata": {},
   "outputs": [
    {
     "name": "stdout",
     "output_type": "stream",
     "text": [
      "Opening inner_track.poly.\n",
      "Constructing Delaunay triangulation by divide-and-conquer method.\n",
      "Delaunay milliseconds:  0\n",
      "Recovering segments in Delaunay triangulation.\n",
      "Segment milliseconds:  0\n",
      "Removing unwanted triangles.\n",
      "Hole milliseconds:  0\n",
      "\n",
      "Writing inner_track.1.node.\n",
      "Writing inner_track.1.ele.\n",
      "Writing inner_track.1.poly.\n",
      "\n",
      "Output milliseconds:  0\n",
      "Total running milliseconds:  0\n",
      "\n",
      "Statistics:\n",
      "\n",
      "  Input vertices: 30\n",
      "  Input segments: 30\n",
      "  Input holes: 0\n",
      "\n",
      "  Mesh vertices: 30\n",
      "  Mesh triangles: 28\n",
      "  Mesh edges: 57\n",
      "  Mesh exterior boundary edges: 30\n",
      "  Mesh interior boundary edges: 0\n",
      "  Mesh subsegments (constrained edges): 30\n",
      "\n",
      "[(20, 7, 6), (7, 20, 19), (20, 6, 21), (6, 22, 21), (5, 22, 6), (4, 22, 5), (8, 7, 10), (10, 9, 8), (7, 11, 10), (18, 17, 12), (18, 7, 19), (12, 11, 18), (17, 13, 12), (18, 11, 7), (4, 3, 2), (22, 2, 1), (2, 22, 4), (23, 22, 1), (0, 29, 28), (28, 27, 0), (1, 0, 25), (27, 25, 0), (23, 1, 24), (14, 13, 16), (17, 16, 13), (24, 1, 25), (15, 14, 16), (27, 26, 25)]\n",
      "Opening outer_track.poly.\n",
      "Constructing Delaunay triangulation by divide-and-conquer method.\n",
      "Delaunay milliseconds:  0\n",
      "Recovering segments in Delaunay triangulation.\n",
      "Segment milliseconds:  0\n",
      "Removing unwanted triangles.\n",
      "Hole milliseconds:  0\n",
      "\n",
      "Writing outer_track.1.node.\n",
      "Writing outer_track.1.ele.\n",
      "Writing outer_track.1.poly.\n",
      "\n",
      "Output milliseconds:  0\n",
      "Total running milliseconds:  0\n",
      "\n",
      "Statistics:\n",
      "\n",
      "  Input vertices: 34\n",
      "  Input segments: 34\n",
      "  Input holes: 1\n",
      "\n",
      "  Mesh vertices: 34\n",
      "  Mesh triangles: 34\n",
      "  Mesh edges: 68\n",
      "  Mesh exterior boundary edges: 34\n",
      "  Mesh interior boundary edges: 0\n",
      "  Mesh subsegments (constrained edges): 34\n",
      "\n",
      "[(7, 30, 6), (6, 30, 5), (18, 19, 20), (17, 21, 23), (4, 5, 30), (4, 30, 3), (30, 31, 3), (17, 20, 21), (8, 9, 33), (33, 10, 32), (10, 33, 9), (8, 33, 30), (18, 20, 17), (10, 11, 32), (8, 30, 7), (32, 11, 12), (1, 2, 31), (1, 31, 0), (29, 31, 28), (27, 28, 32), (31, 32, 28), (29, 0, 31), (2, 3, 31), (23, 24, 16), (16, 24, 15), (17, 23, 16), (25, 26, 32), (14, 15, 32), (32, 15, 25), (14, 32, 13), (26, 27, 32), (25, 15, 24), (13, 32, 12), (21, 22, 23)]\n"
     ]
    }
   ],
   "source": [
    "import os\n",
    "\n",
    "# write file for inner track part\n",
    "writePolyFile(inner_track_filename,inner_nodes, [], [])\n",
    "# call to triangle\n",
    "os.system(triangle_folder + \"triangle -pYj \" + inner_track_filename)\n",
    "# collect triangles\n",
    "inner_vertex_sets = []\n",
    "with open(inner_track_name + \".1.ele\") as f:\n",
    "    inner_vertex_sets = [ (int(line.split()[1]), int(line.split()[2]), int(line.split()[3])) for line in f.readlines() if len(line.split()) == 4]\n",
    "\n",
    "print(str(inner_vertex_sets))\n",
    "\n",
    "# For the outer track we need to define a hole. A hole is given as a point (inside the hole) surrounded by segments\n",
    "# We already have the segments, to get an internal point, we try to get an internal point of one of the polytopes\n",
    "# of the inner set and use this as the basis for our hole (there is only one). To get an inner point, take the average of the first triangle\n",
    "holes = [ ((float(inner_nodes[inner_vertex_sets[0][0]][0]) + float(inner_nodes[inner_vertex_sets[0][1]][0]) + float(inner_nodes[inner_vertex_sets[0][2]][0]))/3, (float(inner_nodes[inner_vertex_sets[0][0]][1]) + float(inner_nodes[inner_vertex_sets[0][1]][1]) + float(inner_nodes[inner_vertex_sets[0][2]][1]))/3) ]\n",
    "# collect vertices of the bounding box\n",
    "bbox = [ (minx,miny),(maxx,miny),(maxx,maxy),(minx,maxy) ]\n",
    "# write file with holes\n",
    "writePolyFile(outer_track_filename,outer_nodes, holes, bbox)\n",
    "# call triangle\n",
    "os.system(triangle_folder + \"triangle -pYj \" + outer_track_filename)\n",
    "# collect triangles\n",
    "outer_vertex_sets = []\n",
    "with open(outer_track_name + \".1.ele\") as f:\n",
    "    outer_vertex_sets = [ (int(line.split()[1]), int(line.split()[2]), int(line.split()[3])) for line in f.readlines() if len(line.split()) == 4]\n",
    "\n",
    "print(str(outer_vertex_sets))\n"
   ]
  },
  {
   "cell_type": "markdown",
   "metadata": {},
   "source": [
    "Create HyPro-code that creates polytopes for each of the passed triangles."
   ]
  },
  {
   "cell_type": "code",
   "execution_count": 84,
   "metadata": {},
   "outputs": [],
   "source": [
    "# add vertices of the bounding box also to the outer nodex, since they will be used later for the file writing\n",
    "outer_nodes.append((minx,miny))\n",
    "outer_nodes.append((maxx,miny))\n",
    "outer_nodes.append((maxx,maxy))\n",
    "outer_nodes.append((minx,maxy))"
   ]
  },
  {
   "cell_type": "code",
   "execution_count": 85,
   "metadata": {},
   "outputs": [],
   "source": [
    "def createPolytopeCode(nodes,vertices):\n",
    "\tprint(\"Have vertex indices \" + str(vertices))\n",
    "\treturn '{\\n\\\n",
    "\t\\tstd::vector<hypro::Point<Number>> points{\\n\\\n",
    "\t\\thypro::Point<Number>({' + str(nodes[vertices[0]][0]) + ',' + str(nodes[vertices[0]][1]) +'}),\\n\\\n",
    "\t\\thypro::Point<Number>({' + str(nodes[vertices[1]][0]) + ',' + str(nodes[vertices[1]][1]) +'}),\\n\\\n",
    "\t\\thypro::Point<Number>({' + str(nodes[vertices[2]][0]) + ',' + str(nodes[vertices[2]][1]) +'}),\\n\\\n",
    "\t};\\n\\\n",
    "\thypro::HPolytope<Number> poly{points};\\n\\\n",
    "\tres.push_back(hypro::Condition<Number>(poly.matrix(), poly.vector()));\\n\\\n",
    "\t}'"
   ]
  },
  {
   "cell_type": "code",
   "execution_count": 86,
   "metadata": {},
   "outputs": [
    {
     "name": "stdout",
     "output_type": "stream",
     "text": [
      "Have vertex indices (20, 7, 6)\n",
      "Have vertex indices (7, 20, 19)\n",
      "Have vertex indices (20, 6, 21)\n",
      "Have vertex indices (6, 22, 21)\n",
      "Have vertex indices (5, 22, 6)\n",
      "Have vertex indices (4, 22, 5)\n",
      "Have vertex indices (8, 7, 10)\n",
      "Have vertex indices (10, 9, 8)\n",
      "Have vertex indices (7, 11, 10)\n",
      "Have vertex indices (18, 17, 12)\n",
      "Have vertex indices (18, 7, 19)\n",
      "Have vertex indices (12, 11, 18)\n",
      "Have vertex indices (17, 13, 12)\n",
      "Have vertex indices (18, 11, 7)\n",
      "Have vertex indices (4, 3, 2)\n",
      "Have vertex indices (22, 2, 1)\n",
      "Have vertex indices (2, 22, 4)\n",
      "Have vertex indices (23, 22, 1)\n",
      "Have vertex indices (0, 29, 28)\n",
      "Have vertex indices (28, 27, 0)\n",
      "Have vertex indices (1, 0, 25)\n",
      "Have vertex indices (27, 25, 0)\n",
      "Have vertex indices (23, 1, 24)\n",
      "Have vertex indices (14, 13, 16)\n",
      "Have vertex indices (17, 16, 13)\n",
      "Have vertex indices (24, 1, 25)\n",
      "Have vertex indices (15, 14, 16)\n",
      "Have vertex indices (27, 26, 25)\n",
      "34\n",
      "Have vertex indices (7, 30, 6)\n",
      "Have vertex indices (6, 30, 5)\n",
      "Have vertex indices (18, 19, 20)\n",
      "Have vertex indices (17, 21, 23)\n",
      "Have vertex indices (4, 5, 30)\n",
      "Have vertex indices (4, 30, 3)\n",
      "Have vertex indices (30, 31, 3)\n",
      "Have vertex indices (17, 20, 21)\n",
      "Have vertex indices (8, 9, 33)\n",
      "Have vertex indices (33, 10, 32)\n",
      "Have vertex indices (10, 33, 9)\n",
      "Have vertex indices (8, 33, 30)\n",
      "Have vertex indices (18, 20, 17)\n",
      "Have vertex indices (10, 11, 32)\n",
      "Have vertex indices (8, 30, 7)\n",
      "Have vertex indices (32, 11, 12)\n",
      "Have vertex indices (1, 2, 31)\n",
      "Have vertex indices (1, 31, 0)\n",
      "Have vertex indices (29, 31, 28)\n",
      "Have vertex indices (27, 28, 32)\n",
      "Have vertex indices (31, 32, 28)\n",
      "Have vertex indices (29, 0, 31)\n",
      "Have vertex indices (2, 3, 31)\n",
      "Have vertex indices (23, 24, 16)\n",
      "Have vertex indices (16, 24, 15)\n",
      "Have vertex indices (17, 23, 16)\n",
      "Have vertex indices (25, 26, 32)\n",
      "Have vertex indices (14, 15, 32)\n",
      "Have vertex indices (32, 15, 25)\n",
      "Have vertex indices (14, 32, 13)\n",
      "Have vertex indices (26, 27, 32)\n",
      "Have vertex indices (25, 15, 24)\n",
      "Have vertex indices (13, 32, 12)\n",
      "Have vertex indices (21, 22, 23)\n"
     ]
    }
   ],
   "source": [
    "hyprofile = open(hypro_outfile,'w')\n",
    "\n",
    "hyprofile.write(\n",
    "'#include <hypro/representations/GeometricObjectBase.h>\\n\\\n",
    "#include <vector>\\n\\n\\\n",
    "#pragma once\\n\\n\\\n",
    "namespace simplexArchitectures {\\n\\\n",
    "template<typename Automaton>\\n\\\n",
    "typename Automaton::conditionVector createBadStates() {\\n\\\n",
    "\\tusing Number = typename Automaton::NumberType;\\n\\\n",
    "\\tauto res = typename Automaton::conditionVector();\\n\\n')\n",
    "\n",
    "for v_set in inner_vertex_sets:\n",
    "    hyprofile.write(createPolytopeCode(inner_nodes,v_set))\n",
    "\n",
    "print(str(len(outer_nodes)))\n",
    "for v_set in outer_vertex_sets:\n",
    "    hyprofile.write(createPolytopeCode(outer_nodes,v_set))\n",
    "    \n",
    "hyprofile.write('\\n\\treturn res;\\n}\\n} // namespace\\n')\n",
    "\n",
    "hyprofile.close()"
   ]
  },
  {
   "cell_type": "markdown",
   "metadata": {},
   "source": [
    "Create HyPro-code that determines the track playground (i.e., the bounding box)"
   ]
  },
  {
   "cell_type": "code",
   "execution_count": 87,
   "metadata": {},
   "outputs": [],
   "source": [
    "hyprofile = open(hypro_playground,'w')\n",
    "\n",
    "hyprofile.write(\n",
    "'#include <hypro/representations/GeometricObjectBase.h>\\n\\\n",
    "#include <vector>\\n\\n\\\n",
    "#pragma once\\n\\n\\\n",
    "namespace simplexArchitectures {\\n\\\n",
    "template<typename Number>\\n\\\n",
    "typename hypro::Box<Number> createPlayground() {\\n\\\n",
    "\\tusing I = carl::Interval<Number>;\\n\\\n",
    "\\tusing IV = std::vector<I>;\\n\\\n",
    "\\treturn hypro::Box<Number>{IV{I{'+str(minx)+\",\"+str(miny)+'},I{'+str(maxx)+','+str(maxy)+'}}};\\n}'\n",
    ")\n",
    "hyprofile.write('\\n} // namespace\\n')\n",
    "\n",
    "hyprofile.close()"
   ]
  }
 ],
 "metadata": {
  "kernelspec": {
   "display_name": "Python 3.10.4 64-bit",
   "language": "python",
   "name": "python3"
  },
  "language_info": {
   "codemirror_mode": {
    "name": "ipython",
    "version": 3
   },
   "file_extension": ".py",
   "mimetype": "text/x-python",
   "name": "python",
   "nbconvert_exporter": "python",
   "pygments_lexer": "ipython3",
   "version": "3.10.4"
  },
  "vscode": {
   "interpreter": {
    "hash": "e7370f93d1d0cde622a1f8e1c04877d8463912d04d973331ad4851f04de6915a"
   }
  }
 },
 "nbformat": 4,
 "nbformat_minor": 0
}
